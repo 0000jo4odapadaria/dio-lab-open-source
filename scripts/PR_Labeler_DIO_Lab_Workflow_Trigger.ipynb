{
  "cells": [
    {
      "cell_type": "markdown",
      "metadata": {
        "colab_type": "text",
        "id": "view-in-github"
      },
      "source": [
        "<a href=\"https://colab.research.google.com/github/falvojr/dio-lab-open-source/blob/main/PR_Labeler_DIO_Lab_Workflow_Trigger.ipynb\" target=\"_parent\"><img src=\"https://colab.research.google.com/assets/colab-badge.svg\" alt=\"Open In Colab\"/></a>"
      ]
    },
    {
      "cell_type": "code",
      "execution_count": null,
      "metadata": {},
      "outputs": [],
      "source": [
        "import os\n",
        "import time\n",
        "import logging\n",
        "from typing import List, Optional, Dict\n",
        "import requests\n",
        "\n",
        "logging.basicConfig(level=logging.INFO, format='%(asctime)s - %(levelname)s - %(message)s')\n"
      ]
    },
    {
      "cell_type": "code",
      "execution_count": null,
      "metadata": {},
      "outputs": [],
      "source": [
        "class GitHubConfig:\n",
        "    TOKEN = os.getenv('GITHUB_TOKEN', 'token_placeholder')\n",
        "    OWNER = os.getenv('GITHUB_OWNER', 'digitalinnovationone')\n",
        "    REPO = os.getenv('GITHUB_REPO', 'dio-lab-open-source')\n",
        "    HEADERS = {\n",
        "        'Authorization': f'token {TOKEN}',\n",
        "        'Accept': 'application/vnd.github.v3+json'\n",
        "    }\n"
      ]
    },
    {
      "cell_type": "code",
      "execution_count": null,
      "metadata": {},
      "outputs": [],
      "source": [
        "class ScriptConfig:\n",
        "    DIO_LAB_WORKFLOW_TRIGGER_LABEL = 'run dio workflow'\n",
        "    DELAY_SECONDS = 10\n"
      ]
    },
    {
      "cell_type": "code",
      "execution_count": null,
      "metadata": {},
      "outputs": [],
      "source": [
        "class GitHubClient:\n",
        "    @staticmethod\n",
        "    def make_request(method: str, endpoint: str, json: Optional[Dict] = None) -> Optional[requests.Response]:\n",
        "        url = f\"https://api.github.com/repos/{GitHubConfig.OWNER}/{GitHubConfig.REPO}{endpoint}\"\n",
        "        try:\n",
        "            response = requests.request(method, url, headers=GitHubConfig.HEADERS, json=json)\n",
        "            response.raise_for_status()\n",
        "            return response\n",
        "        except requests.RequestException as e:\n",
        "            logging.error(f\"Erro ao fazer requisição {method} para {url}: {e}\")\n",
        "            return None\n",
        "\n",
        "    @staticmethod\n",
        "    def get_open_prs() -> List[Dict]:\n",
        "        prs = []\n",
        "        page = 1\n",
        "\n",
        "        while True:\n",
        "            response = GitHubClient.make_request(\"GET\", f\"/pulls?page={page}&per_page=100\")\n",
        "            if not response:\n",
        "                break\n",
        "\n",
        "            page_prs = response.json()\n",
        "            prs.extend(page_prs)\n",
        "\n",
        "            if len(page_prs) < 100:\n",
        "                break\n",
        "            page += 1\n",
        "        logging.info(f\"Recuperados {len(prs)} PRs abertos no total.\")\n",
        "        return prs\n",
        "\n",
        "    @staticmethod\n",
        "    def add_label(pr_number: int, label: str) -> bool:\n",
        "        \"\"\"Adiciona uma label a um PR.\"\"\"\n",
        "        data = {'labels': [label]}\n",
        "        response = GitHubClient.make_request(\"POST\", f\"/issues/{pr_number}/labels\", json=data)\n",
        "        if response:\n",
        "            logging.info(f\"Adicionado label ao PR #{pr_number}. Resposta: {response.status_code}\")\n",
        "            return True\n",
        "        return False\n"
      ]
    },
    {
      "cell_type": "code",
      "execution_count": null,
      "metadata": {},
      "outputs": [],
      "source": [
        "def main():\n",
        "    prs_abertos = GitHubClient.get_open_prs()\n",
        "    prs_abertos.reverse()\n",
        "\n",
        "    for pr in prs_abertos:\n",
        "        pr_number = pr.get('number')\n",
        "        labels = [label['name'] for label in pr.get('labels', [])]\n",
        "\n",
        "        if ScriptConfig.DIO_LAB_WORKFLOW_TRIGGER_LABEL not in labels:\n",
        "            if GitHubClient.add_label(pr_number, ScriptConfig.DIO_LAB_WORKFLOW_TRIGGER_LABEL):\n",
        "                time.sleep(ScriptConfig.DELAY_SECONDS)\n",
        "        else:\n",
        "            logging.info(f\"PR #{pr_number} já possui o label. Pulando.\")\n",
        "\n",
        "if __name__ == \"__main__\":\n",
        "    main()\n"
      ]
    }
  ],
  "metadata": {
    "colab": {
      "authorship_tag": "ABX9TyPlkWCTWUJG/Jltt/KvrpC7",
      "include_colab_link": true,
      "provenance": []
    },
    "kernelspec": {
      "display_name": "Python 3",
      "name": "python3"
    },
    "language_info": {
      "name": "python"
    }
  },
  "nbformat": 4,
  "nbformat_minor": 0
}
